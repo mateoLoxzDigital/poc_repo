{
  "nbformat": 4,
  "nbformat_minor": 0,
  "metadata": {
    "colab": {
      "name": "POC_Text_Recommender.ipynb",
      "provenance": [],
      "collapsed_sections": [
        "F2PRjR0nWew3",
        "-SzzRXx0jFVo",
        "AzUnkTKwaCQP",
        "NBlWFPCujw2d"
      ],
      "authorship_tag": "ABX9TyPViBQ3MtHv4dEnSO6MThdu",
      "include_colab_link": true
    },
    "kernelspec": {
      "name": "python3",
      "display_name": "Python 3"
    },
    "language_info": {
      "name": "python"
    }
  },
  "cells": [
    {
      "cell_type": "markdown",
      "metadata": {
        "id": "view-in-github",
        "colab_type": "text"
      },
      "source": [
        "<a href=\"https://colab.research.google.com/github/mateoLoxzDigital/poc_repo/blob/main/POC_Text_Recommender.ipynb\" target=\"_parent\"><img src=\"https://colab.research.google.com/assets/colab-badge.svg\" alt=\"Open In Colab\"/></a>"
      ]
    },
    {
      "cell_type": "code",
      "metadata": {
        "id": "dJWNT9Xw9o6G"
      },
      "source": [
        "# build basic Bee Plugin Template Flask App and the Marlowe button just submits the data to the Loxz Digital API"
      ],
      "execution_count": null,
      "outputs": []
    },
    {
      "cell_type": "code",
      "metadata": {
        "id": "ueQkZsK5DqmK",
        "colab": {
          "base_uri": "https://localhost:8080/"
        },
        "outputId": "5a1c5aef-1a3f-45ad-de1e-100547630518"
      },
      "source": [
        "import pandas as pd\n",
        "import numpy as np\n",
        "import matplotlib.pyplot as plt\n",
        "import seaborn as sns\n",
        "from sklearn.model_selection import train_test_split\n",
        "from sklearn.ensemble import RandomForestClassifier\n",
        "from sklearn.linear_model import LogisticRegression\n",
        "from sklearn.metrics import classification_report\n",
        "\n",
        "from google.colab import drive\n",
        "drive.mount('/content/drive')"
      ],
      "execution_count": 64,
      "outputs": [
        {
          "output_type": "stream",
          "text": [
            "Drive already mounted at /content/drive; to attempt to forcibly remount, call drive.mount(\"/content/drive\", force_remount=True).\n"
          ],
          "name": "stdout"
        }
      ]
    },
    {
      "cell_type": "code",
      "metadata": {
        "id": "2IKnXIWLD-TM"
      },
      "source": [
        "## downloading and unzipping data from UCI ML database:\n",
        "\n",
        "# !wget https://archive.ics.uci.edu/ml/machine-learning-databases/00228/smsspamcollection.zip\n",
        "\n",
        "# import zipfile\n",
        "\n",
        "# path_to_zip_file = 'smsspamcollection.zip'\n",
        "# directory_to_extract_to = './content/drive/MyDrive/MailUp_Project/data/'\n",
        "# with zipfile.ZipFile(path_to_zip_file, 'r') as zip_ref:\n",
        "#     zip_ref.extractall(directory_to_extract_to)"
      ],
      "execution_count": null,
      "outputs": []
    },
    {
      "cell_type": "code",
      "metadata": {
        "id": "RCaOrfQwFDw9"
      },
      "source": [
        "data = pd.read_csv('/content/drive/MyDrive/MailUp_Project/data/wrangled_data.csv')"
      ],
      "execution_count": 42,
      "outputs": []
    },
    {
      "cell_type": "code",
      "metadata": {
        "colab": {
          "base_uri": "https://localhost:8080/",
          "height": 734
        },
        "id": "0avw8HyVwf_s",
        "outputId": "b59beabf-8584-4fd2-cd01-ee2a921efbdd"
      },
      "source": [
        "data.head()"
      ],
      "execution_count": 54,
      "outputs": [
        {
          "output_type": "execute_result",
          "data": {
            "text/html": [
              "<div>\n",
              "<style scoped>\n",
              "    .dataframe tbody tr th:only-of-type {\n",
              "        vertical-align: middle;\n",
              "    }\n",
              "\n",
              "    .dataframe tbody tr th {\n",
              "        vertical-align: top;\n",
              "    }\n",
              "\n",
              "    .dataframe thead th {\n",
              "        text-align: right;\n",
              "    }\n",
              "</style>\n",
              "<table border=\"1\" class=\"dataframe\">\n",
              "  <thead>\n",
              "    <tr style=\"text-align: right;\">\n",
              "      <th></th>\n",
              "      <th>label</th>\n",
              "      <th>text</th>\n",
              "      <th>length</th>\n",
              "      <th>title</th>\n",
              "      <th>title_length</th>\n",
              "      <th>click_through</th>\n",
              "      <th>abandoned_cart</th>\n",
              "      <th>unsubscribed</th>\n",
              "      <th>open_rate</th>\n",
              "      <th>num_pics</th>\n",
              "      <th>num_videos</th>\n",
              "      <th>video_length</th>\n",
              "      <th>length_binned</th>\n",
              "      <th>title_length_binned</th>\n",
              "      <th>campain_type</th>\n",
              "      <th>industry</th>\n",
              "    </tr>\n",
              "  </thead>\n",
              "  <tbody>\n",
              "    <tr>\n",
              "      <th>0</th>\n",
              "      <td>0</td>\n",
              "      <td>Go until jurong point, crazy.. Available only ...</td>\n",
              "      <td>20</td>\n",
              "      <td>Go until jurong point, crazy</td>\n",
              "      <td>5</td>\n",
              "      <td>0</td>\n",
              "      <td>1</td>\n",
              "      <td>1</td>\n",
              "      <td>1</td>\n",
              "      <td>2</td>\n",
              "      <td>2</td>\n",
              "      <td>69</td>\n",
              "      <td>med</td>\n",
              "      <td>med</td>\n",
              "      <td>Promotional</td>\n",
              "      <td>Medical</td>\n",
              "    </tr>\n",
              "    <tr>\n",
              "      <th>1</th>\n",
              "      <td>0</td>\n",
              "      <td>Ok lar... Joking wif u oni...</td>\n",
              "      <td>6</td>\n",
              "      <td>Ok lar</td>\n",
              "      <td>2</td>\n",
              "      <td>1</td>\n",
              "      <td>0</td>\n",
              "      <td>1</td>\n",
              "      <td>0</td>\n",
              "      <td>1</td>\n",
              "      <td>3</td>\n",
              "      <td>107</td>\n",
              "      <td>small</td>\n",
              "      <td>small</td>\n",
              "      <td>Survey</td>\n",
              "      <td>Hospitality</td>\n",
              "    </tr>\n",
              "    <tr>\n",
              "      <th>2</th>\n",
              "      <td>1</td>\n",
              "      <td>Free entry in 2 a wkly comp to win FA Cup fina...</td>\n",
              "      <td>28</td>\n",
              "      <td>Free entry in 2 a wkly comp to win FA Cup fina...</td>\n",
              "      <td>16</td>\n",
              "      <td>0</td>\n",
              "      <td>1</td>\n",
              "      <td>1</td>\n",
              "      <td>1</td>\n",
              "      <td>3</td>\n",
              "      <td>0</td>\n",
              "      <td>68</td>\n",
              "      <td>big</td>\n",
              "      <td>bigger</td>\n",
              "      <td>Survey</td>\n",
              "      <td>Industrial</td>\n",
              "    </tr>\n",
              "    <tr>\n",
              "      <th>3</th>\n",
              "      <td>0</td>\n",
              "      <td>U dun say so early hor... U c already then say...</td>\n",
              "      <td>11</td>\n",
              "      <td>U dun say so early hor</td>\n",
              "      <td>6</td>\n",
              "      <td>1</td>\n",
              "      <td>0</td>\n",
              "      <td>1</td>\n",
              "      <td>1</td>\n",
              "      <td>0</td>\n",
              "      <td>3</td>\n",
              "      <td>112</td>\n",
              "      <td>med</td>\n",
              "      <td>med</td>\n",
              "      <td>No_Opener</td>\n",
              "      <td>Automotive</td>\n",
              "    </tr>\n",
              "    <tr>\n",
              "      <th>4</th>\n",
              "      <td>0</td>\n",
              "      <td>Nah I don't think he goes to usf, he lives aro...</td>\n",
              "      <td>13</td>\n",
              "      <td>Nah I don't think he goes to usf, he lives aro...</td>\n",
              "      <td>13</td>\n",
              "      <td>0</td>\n",
              "      <td>1</td>\n",
              "      <td>1</td>\n",
              "      <td>1</td>\n",
              "      <td>5</td>\n",
              "      <td>1</td>\n",
              "      <td>101</td>\n",
              "      <td>med</td>\n",
              "      <td>bigger</td>\n",
              "      <td>Revenue_Based</td>\n",
              "      <td>Automotive</td>\n",
              "    </tr>\n",
              "  </tbody>\n",
              "</table>\n",
              "</div>"
            ],
            "text/plain": [
              "   label  ...     industry\n",
              "0      0  ...      Medical\n",
              "1      0  ...  Hospitality\n",
              "2      1  ...   Industrial\n",
              "3      0  ...   Automotive\n",
              "4      0  ...   Automotive\n",
              "\n",
              "[5 rows x 16 columns]"
            ]
          },
          "metadata": {
            "tags": []
          },
          "execution_count": 54
        }
      ]
    },
    {
      "cell_type": "markdown",
      "metadata": {
        "id": "F0ob-Arv4qDX"
      },
      "source": [
        "# End data wrangling here atleast..."
      ]
    },
    {
      "cell_type": "code",
      "metadata": {
        "colab": {
          "base_uri": "https://localhost:8080/"
        },
        "id": "81oOd_7rnB-4",
        "outputId": "1f82e246-dc00-4d9d-e26d-b9951284f79d"
      },
      "source": [
        "data.info()"
      ],
      "execution_count": null,
      "outputs": [
        {
          "output_type": "stream",
          "text": [
            "<class 'pandas.core.frame.DataFrame'>\n",
            "Int64Index: 5169 entries, 0 to 5571\n",
            "Data columns (total 13 columns):\n",
            " #   Column               Non-Null Count  Dtype \n",
            "---  ------               --------------  ----- \n",
            " 0   label                5169 non-null   int64 \n",
            " 1   text                 5169 non-null   object\n",
            " 2   length               5169 non-null   int64 \n",
            " 3   title                5169 non-null   object\n",
            " 4   title_length         5169 non-null   int64 \n",
            " 5   click_through        5169 non-null   int64 \n",
            " 6   abondoned_cart       5169 non-null   int64 \n",
            " 7   open_rate            5169 non-null   int64 \n",
            " 8   num_pics             5169 non-null   int64 \n",
            " 9   num_videos           5169 non-null   int64 \n",
            " 10  video_length         5169 non-null   int64 \n",
            " 11  length_binned        5169 non-null   object\n",
            " 12  title_length_binned  5169 non-null   object\n",
            "dtypes: int64(9), object(4)\n",
            "memory usage: 565.4+ KB\n"
          ],
          "name": "stdout"
        }
      ]
    },
    {
      "cell_type": "code",
      "metadata": {
        "id": "wVyEZcDbobYc"
      },
      "source": [
        ""
      ],
      "execution_count": null,
      "outputs": []
    },
    {
      "cell_type": "code",
      "metadata": {
        "colab": {
          "base_uri": "https://localhost:8080/",
          "height": 297
        },
        "id": "zBS1Ie8xKrz7",
        "outputId": "43a35b7d-7af1-4a3a-95d8-e8dd81102501"
      },
      "source": [
        "# Summary Statistics on Non_Spam Emails\n",
        "data[data.label==0].describe()"
      ],
      "execution_count": null,
      "outputs": [
        {
          "output_type": "execute_result",
          "data": {
            "text/html": [
              "<div>\n",
              "<style scoped>\n",
              "    .dataframe tbody tr th:only-of-type {\n",
              "        vertical-align: middle;\n",
              "    }\n",
              "\n",
              "    .dataframe tbody tr th {\n",
              "        vertical-align: top;\n",
              "    }\n",
              "\n",
              "    .dataframe thead th {\n",
              "        text-align: right;\n",
              "    }\n",
              "</style>\n",
              "<table border=\"1\" class=\"dataframe\">\n",
              "  <thead>\n",
              "    <tr style=\"text-align: right;\">\n",
              "      <th></th>\n",
              "      <th>label</th>\n",
              "      <th>length</th>\n",
              "    </tr>\n",
              "  </thead>\n",
              "  <tbody>\n",
              "    <tr>\n",
              "      <th>count</th>\n",
              "      <td>4516.0</td>\n",
              "      <td>4516.000000</td>\n",
              "    </tr>\n",
              "    <tr>\n",
              "      <th>mean</th>\n",
              "      <td>0.0</td>\n",
              "      <td>70.459256</td>\n",
              "    </tr>\n",
              "    <tr>\n",
              "      <th>std</th>\n",
              "      <td>0.0</td>\n",
              "      <td>56.358207</td>\n",
              "    </tr>\n",
              "    <tr>\n",
              "      <th>min</th>\n",
              "      <td>0.0</td>\n",
              "      <td>2.000000</td>\n",
              "    </tr>\n",
              "    <tr>\n",
              "      <th>25%</th>\n",
              "      <td>0.0</td>\n",
              "      <td>34.000000</td>\n",
              "    </tr>\n",
              "    <tr>\n",
              "      <th>50%</th>\n",
              "      <td>0.0</td>\n",
              "      <td>52.000000</td>\n",
              "    </tr>\n",
              "    <tr>\n",
              "      <th>75%</th>\n",
              "      <td>0.0</td>\n",
              "      <td>90.000000</td>\n",
              "    </tr>\n",
              "    <tr>\n",
              "      <th>max</th>\n",
              "      <td>0.0</td>\n",
              "      <td>910.000000</td>\n",
              "    </tr>\n",
              "  </tbody>\n",
              "</table>\n",
              "</div>"
            ],
            "text/plain": [
              "        label       length\n",
              "count  4516.0  4516.000000\n",
              "mean      0.0    70.459256\n",
              "std       0.0    56.358207\n",
              "min       0.0     2.000000\n",
              "25%       0.0    34.000000\n",
              "50%       0.0    52.000000\n",
              "75%       0.0    90.000000\n",
              "max       0.0   910.000000"
            ]
          },
          "metadata": {
            "tags": []
          },
          "execution_count": 31
        }
      ]
    },
    {
      "cell_type": "code",
      "metadata": {
        "colab": {
          "base_uri": "https://localhost:8080/",
          "height": 297
        },
        "id": "ldulHbXyLHqf",
        "outputId": "431104d7-9c6d-4f36-84df-22282393c956"
      },
      "source": [
        "# Summary Statistics on Spam Emails\n",
        "data[data.label==1].describe()"
      ],
      "execution_count": null,
      "outputs": [
        {
          "output_type": "execute_result",
          "data": {
            "text/html": [
              "<div>\n",
              "<style scoped>\n",
              "    .dataframe tbody tr th:only-of-type {\n",
              "        vertical-align: middle;\n",
              "    }\n",
              "\n",
              "    .dataframe tbody tr th {\n",
              "        vertical-align: top;\n",
              "    }\n",
              "\n",
              "    .dataframe thead th {\n",
              "        text-align: right;\n",
              "    }\n",
              "</style>\n",
              "<table border=\"1\" class=\"dataframe\">\n",
              "  <thead>\n",
              "    <tr style=\"text-align: right;\">\n",
              "      <th></th>\n",
              "      <th>label</th>\n",
              "      <th>length</th>\n",
              "    </tr>\n",
              "  </thead>\n",
              "  <tbody>\n",
              "    <tr>\n",
              "      <th>count</th>\n",
              "      <td>653.0</td>\n",
              "      <td>653.000000</td>\n",
              "    </tr>\n",
              "    <tr>\n",
              "      <th>mean</th>\n",
              "      <td>1.0</td>\n",
              "      <td>137.891271</td>\n",
              "    </tr>\n",
              "    <tr>\n",
              "      <th>std</th>\n",
              "      <td>0.0</td>\n",
              "      <td>30.137753</td>\n",
              "    </tr>\n",
              "    <tr>\n",
              "      <th>min</th>\n",
              "      <td>1.0</td>\n",
              "      <td>13.000000</td>\n",
              "    </tr>\n",
              "    <tr>\n",
              "      <th>25%</th>\n",
              "      <td>1.0</td>\n",
              "      <td>132.000000</td>\n",
              "    </tr>\n",
              "    <tr>\n",
              "      <th>50%</th>\n",
              "      <td>1.0</td>\n",
              "      <td>149.000000</td>\n",
              "    </tr>\n",
              "    <tr>\n",
              "      <th>75%</th>\n",
              "      <td>1.0</td>\n",
              "      <td>157.000000</td>\n",
              "    </tr>\n",
              "    <tr>\n",
              "      <th>max</th>\n",
              "      <td>1.0</td>\n",
              "      <td>224.000000</td>\n",
              "    </tr>\n",
              "  </tbody>\n",
              "</table>\n",
              "</div>"
            ],
            "text/plain": [
              "       label      length\n",
              "count  653.0  653.000000\n",
              "mean     1.0  137.891271\n",
              "std      0.0   30.137753\n",
              "min      1.0   13.000000\n",
              "25%      1.0  132.000000\n",
              "50%      1.0  149.000000\n",
              "75%      1.0  157.000000\n",
              "max      1.0  224.000000"
            ]
          },
          "metadata": {
            "tags": []
          },
          "execution_count": 32
        }
      ]
    },
    {
      "cell_type": "code",
      "metadata": {
        "colab": {
          "base_uri": "https://localhost:8080/",
          "height": 369
        },
        "id": "LFM6zqqZLLSR",
        "outputId": "10d42548-ea11-4ba3-88db-2ae7a2a8dd36"
      },
      "source": [
        "sns.displot(data=data, x = 'length', hue = 'label', height=5, aspect=1.5)\n",
        "plt.xlim((0,600))\n",
        "plt.show()"
      ],
      "execution_count": null,
      "outputs": [
        {
          "output_type": "display_data",
          "data": {
            "image/png": "[encoded data removed]",
            "text/plain": [
              "<Figure size 582.375x360 with 1 Axes>"
            ]
          },
          "metadata": {
            "tags": [],
            "needs_background": "light"
          }
        }
      ]
    },
    {
      "cell_type": "code",
      "metadata": {
        "colab": {
          "base_uri": "https://localhost:8080/"
        },
        "id": "OKbVUUEVSdBC",
        "outputId": "b129fb1f-5500-40ee-ec39-98206bc7d5c7"
      },
      "source": [
        "from nltk.corpus import stopwords\n",
        "from nltk.tokenize import WhitespaceTokenizer\n",
        "from nltk.stem import WordNetLemmatizer\n",
        "from sklearn.feature_extraction.text import TfidfVectorizer\n",
        "import nltk\n",
        "nltk.download('stopwords')\n",
        "nltk.download('wordnet')"
      ],
      "execution_count": null,
      "outputs": [
        {
          "output_type": "stream",
          "text": [
            "[nltk_data] Downloading package stopwords to /root/nltk_data...\n",
            "[nltk_data]   Package stopwords is already up-to-date!\n",
            "[nltk_data] Downloading package wordnet to /root/nltk_data...\n",
            "[nltk_data]   Unzipping corpora/wordnet.zip.\n"
          ],
          "name": "stdout"
        },
        {
          "output_type": "execute_result",
          "data": {
            "text/plain": [
              "True"
            ]
          },
          "metadata": {
            "tags": []
          },
          "execution_count": 70
        }
      ]
    },
    {
      "cell_type": "code",
      "metadata": {
        "colab": {
          "base_uri": "https://localhost:8080/"
        },
        "id": "DqYhi9_VV2Mo",
        "outputId": "3ddc7728-02e3-4b70-a048-0e668091ac38"
      },
      "source": [
        "data.text"
      ],
      "execution_count": null,
      "outputs": [
        {
          "output_type": "execute_result",
          "data": {
            "text/plain": [
              "0       Go until jurong point, crazy.. Available only ...\n",
              "1                           Ok lar... Joking wif u oni...\n",
              "2       Free entry in 2 a wkly comp to win FA Cup fina...\n",
              "3       U dun say so early hor... U c already then say...\n",
              "4       Nah I don't think he goes to usf, he lives aro...\n",
              "                              ...                        \n",
              "5567    This is the 2nd time we have tried 2 contact u...\n",
              "5568                 Will _ b going to esplanade fr home?\n",
              "5569    Pity, * was in mood for that. So...any other s...\n",
              "5570    The guy did some bitching but I acted like i'd...\n",
              "5571                           Rofl. Its true to its name\n",
              "Name: text, Length: 5169, dtype: object"
            ]
          },
          "metadata": {
            "tags": []
          },
          "execution_count": 100
        }
      ]
    },
    {
      "cell_type": "code",
      "metadata": {
        "id": "aaTRLqYrVWVw"
      },
      "source": [
        "# removing non-english characters:\n",
        "data.text.replace({r'[^\\x00-\\x7F]+':''}, regex=True, inplace=True)"
      ],
      "execution_count": null,
      "outputs": []
    },
    {
      "cell_type": "code",
      "metadata": {
        "id": "Usp-fZ35Vwma"
      },
      "source": [
        "text"
      ],
      "execution_count": null,
      "outputs": []
    },
    {
      "cell_type": "code",
      "metadata": {
        "id": "PbTqMq1AL5aR"
      },
      "source": [
        "w_tokenizer = WhitespaceTokenizer()\n",
        "lemmatizer = WordNetLemmatizer()\n",
        "\n",
        "def lemmatize_text(text):\n",
        "    text = [lemmatizer.lemmatize(w) for w in w_tokenizer.tokenize(text)]\n",
        "    text = ' '.join(text)\n",
        "    return text\n",
        "\n",
        "text = data.text.apply(lemmatize_text)\n",
        "\n",
        "\n",
        "final_stopwords_list = stopwords.words('english')\n",
        "tfidf_vectorizer = TfidfVectorizer(max_df=0.9, max_features=200000, \n",
        "                                   min_df=0.001, stop_words=final_stopwords_list, \n",
        "                                   use_idf=True, ngram_range=(1,2))"
      ],
      "execution_count": null,
      "outputs": []
    },
    {
      "cell_type": "code",
      "metadata": {
        "id": "5Dw3HOXVR9Wr"
      },
      "source": [
        "tfidf_X = tfidf_vectorizer.fit_transform(text)"
      ],
      "execution_count": null,
      "outputs": []
    },
    {
      "cell_type": "code",
      "metadata": {
        "id": "jImdEW36TNXz"
      },
      "source": [
        "# I don't necessarily need the dataframe...(maybe for EDA to map column names to features)\n",
        "\n",
        "# tfidf_df = pd.DataFrame(tfidf_X.A, columns=tfidf_vectorizer.get_feature_names())\n",
        "# print(tfidf_df.shape)\n",
        "# tfidf_df.head()"
      ],
      "execution_count": null,
      "outputs": []
    },
    {
      "cell_type": "markdown",
      "metadata": {
        "id": "Z6NkLFKFXAi3"
      },
      "source": [
        "## Modeling"
      ]
    },
    {
      "cell_type": "code",
      "metadata": {
        "id": "ZR5lLEL_XCvn",
        "colab": {
          "base_uri": "https://localhost:8080/",
          "height": 341
        },
        "outputId": "eb2d234f-d7e5-42be-ef13-d6cd5ca6cb60"
      },
      "source": [
        "\n",
        "# declaring target variable: y\n",
        "y=data.label\n",
        "\n",
        "# creating train test split for TFIDF Vectorizer:\n",
        "tfidf_X_train, tfidf_X_test, tfidf_y_train, tfidf_y_test = train_test_split(tfidf_X, y, test_size=0.25, random_state=42)\n"
      ],
      "execution_count": null,
      "outputs": [
        {
          "output_type": "error",
          "ename": "ValueError",
          "evalue": "ignored",
          "traceback": [
            "\u001b[0;31m---------------------------------------------------------------------------\u001b[0m",
            "\u001b[0;31mValueError\u001b[0m                                Traceback (most recent call last)",
            "\u001b[0;32m<ipython-input-238-ac22036cd7c9>\u001b[0m in \u001b[0;36m<module>\u001b[0;34m()\u001b[0m\n\u001b[1;32m      5\u001b[0m \u001b[0;34m\u001b[0m\u001b[0m\n\u001b[1;32m      6\u001b[0m \u001b[0;31m# creating train test split for TFIDF Vectorizer:\u001b[0m\u001b[0;34m\u001b[0m\u001b[0;34m\u001b[0m\u001b[0;34m\u001b[0m\u001b[0m\n\u001b[0;32m----> 7\u001b[0;31m \u001b[0mtfidf_X_train\u001b[0m\u001b[0;34m,\u001b[0m \u001b[0mtfidf_X_test\u001b[0m\u001b[0;34m,\u001b[0m \u001b[0mtfidf_y_train\u001b[0m\u001b[0;34m,\u001b[0m \u001b[0mtfidf_y_test\u001b[0m \u001b[0;34m=\u001b[0m \u001b[0mtrain_test_split\u001b[0m\u001b[0;34m(\u001b[0m\u001b[0mtfidf_X\u001b[0m\u001b[0;34m,\u001b[0m \u001b[0my\u001b[0m\u001b[0;34m,\u001b[0m \u001b[0mtest_size\u001b[0m\u001b[0;34m=\u001b[0m\u001b[0;36m0.25\u001b[0m\u001b[0;34m,\u001b[0m \u001b[0mrandom_state\u001b[0m\u001b[0;34m=\u001b[0m\u001b[0;36m42\u001b[0m\u001b[0;34m)\u001b[0m\u001b[0;34m\u001b[0m\u001b[0;34m\u001b[0m\u001b[0m\n\u001b[0m",
            "\u001b[0;32m/usr/local/lib/python3.7/dist-packages/sklearn/model_selection/_split.py\u001b[0m in \u001b[0;36mtrain_test_split\u001b[0;34m(*arrays, **options)\u001b[0m\n\u001b[1;32m   2116\u001b[0m         \u001b[0;32mraise\u001b[0m \u001b[0mTypeError\u001b[0m\u001b[0;34m(\u001b[0m\u001b[0;34m\"Invalid parameters passed: %s\"\u001b[0m \u001b[0;34m%\u001b[0m \u001b[0mstr\u001b[0m\u001b[0;34m(\u001b[0m\u001b[0moptions\u001b[0m\u001b[0;34m)\u001b[0m\u001b[0;34m)\u001b[0m\u001b[0;34m\u001b[0m\u001b[0;34m\u001b[0m\u001b[0m\n\u001b[1;32m   2117\u001b[0m \u001b[0;34m\u001b[0m\u001b[0m\n\u001b[0;32m-> 2118\u001b[0;31m     \u001b[0marrays\u001b[0m \u001b[0;34m=\u001b[0m \u001b[0mindexable\u001b[0m\u001b[0;34m(\u001b[0m\u001b[0;34m*\u001b[0m\u001b[0marrays\u001b[0m\u001b[0;34m)\u001b[0m\u001b[0;34m\u001b[0m\u001b[0;34m\u001b[0m\u001b[0m\n\u001b[0m\u001b[1;32m   2119\u001b[0m \u001b[0;34m\u001b[0m\u001b[0m\n\u001b[1;32m   2120\u001b[0m     \u001b[0mn_samples\u001b[0m \u001b[0;34m=\u001b[0m \u001b[0m_num_samples\u001b[0m\u001b[0;34m(\u001b[0m\u001b[0marrays\u001b[0m\u001b[0;34m[\u001b[0m\u001b[0;36m0\u001b[0m\u001b[0;34m]\u001b[0m\u001b[0;34m)\u001b[0m\u001b[0;34m\u001b[0m\u001b[0;34m\u001b[0m\u001b[0m\n",
            "\u001b[0;32m/usr/local/lib/python3.7/dist-packages/sklearn/utils/validation.py\u001b[0m in \u001b[0;36mindexable\u001b[0;34m(*iterables)\u001b[0m\n\u001b[1;32m    246\u001b[0m     \"\"\"\n\u001b[1;32m    247\u001b[0m     \u001b[0mresult\u001b[0m \u001b[0;34m=\u001b[0m \u001b[0;34m[\u001b[0m\u001b[0m_make_indexable\u001b[0m\u001b[0;34m(\u001b[0m\u001b[0mX\u001b[0m\u001b[0;34m)\u001b[0m \u001b[0;32mfor\u001b[0m \u001b[0mX\u001b[0m \u001b[0;32min\u001b[0m \u001b[0miterables\u001b[0m\u001b[0;34m]\u001b[0m\u001b[0;34m\u001b[0m\u001b[0;34m\u001b[0m\u001b[0m\n\u001b[0;32m--> 248\u001b[0;31m     \u001b[0mcheck_consistent_length\u001b[0m\u001b[0;34m(\u001b[0m\u001b[0;34m*\u001b[0m\u001b[0mresult\u001b[0m\u001b[0;34m)\u001b[0m\u001b[0;34m\u001b[0m\u001b[0;34m\u001b[0m\u001b[0m\n\u001b[0m\u001b[1;32m    249\u001b[0m     \u001b[0;32mreturn\u001b[0m \u001b[0mresult\u001b[0m\u001b[0;34m\u001b[0m\u001b[0;34m\u001b[0m\u001b[0m\n\u001b[1;32m    250\u001b[0m \u001b[0;34m\u001b[0m\u001b[0m\n",
            "\u001b[0;32m/usr/local/lib/python3.7/dist-packages/sklearn/utils/validation.py\u001b[0m in \u001b[0;36mcheck_consistent_length\u001b[0;34m(*arrays)\u001b[0m\n\u001b[1;32m    210\u001b[0m     \u001b[0;32mif\u001b[0m \u001b[0mlen\u001b[0m\u001b[0;34m(\u001b[0m\u001b[0muniques\u001b[0m\u001b[0;34m)\u001b[0m \u001b[0;34m>\u001b[0m \u001b[0;36m1\u001b[0m\u001b[0;34m:\u001b[0m\u001b[0;34m\u001b[0m\u001b[0;34m\u001b[0m\u001b[0m\n\u001b[1;32m    211\u001b[0m         raise ValueError(\"Found input variables with inconsistent numbers of\"\n\u001b[0;32m--> 212\u001b[0;31m                          \" samples: %r\" % [int(l) for l in lengths])\n\u001b[0m\u001b[1;32m    213\u001b[0m \u001b[0;34m\u001b[0m\u001b[0m\n\u001b[1;32m    214\u001b[0m \u001b[0;34m\u001b[0m\u001b[0m\n",
            "\u001b[0;31mValueError\u001b[0m: Found input variables with inconsistent numbers of samples: [5169, 5572]"
          ]
        }
      ]
    },
    {
      "cell_type": "markdown",
      "metadata": {
        "id": "F2PRjR0nWew3"
      },
      "source": [
        "### MultiNomial Naive Bayes"
      ]
    },
    {
      "cell_type": "code",
      "metadata": {
        "id": "S1Y_afZEXgpK"
      },
      "source": [
        "from sklearn.naive_bayes import MultinomialNB\n",
        "from sklearn import metrics\n",
        "from sklearn.metrics import precision_recall_fscore_support\n",
        "from sklearn.metrics import classification_report"
      ],
      "execution_count": null,
      "outputs": []
    },
    {
      "cell_type": "code",
      "metadata": {
        "colab": {
          "base_uri": "https://localhost:8080/"
        },
        "id": "z8RNmngVWicT",
        "outputId": "0687d030-5e56-4283-8cf8-379a75f36ae9"
      },
      "source": [
        "#Multinomial Naive Bayes\n",
        "model=MultinomialNB()\n",
        "model.fit(tfidf_X_train,tfidf_y_train)\n",
        "y_preds=model.predict(tfidf_X_test)\n",
        "print(\"Multinomial Naive Bayes:\",classification_report(tfidf_y_test,y_preds))"
      ],
      "execution_count": null,
      "outputs": [
        {
          "output_type": "stream",
          "text": [
            "Multinomial Naive Bayes:               precision    recall  f1-score   support\n",
            "\n",
            "           0       0.98      1.00      0.99      1107\n",
            "           1       0.98      0.88      0.93       186\n",
            "\n",
            "    accuracy                           0.98      1293\n",
            "   macro avg       0.98      0.94      0.96      1293\n",
            "weighted avg       0.98      0.98      0.98      1293\n",
            "\n"
          ],
          "name": "stdout"
        }
      ]
    },
    {
      "cell_type": "markdown",
      "metadata": {
        "id": "orXo_M8vX9Dg"
      },
      "source": [
        "## Regression Prediction Just Based On (selected variable)\n",
        "\n",
        "(convert 'length into a binned group, then with that I can change the binning to see the adjusted prediction probabilities)"
      ]
    },
    {
      "cell_type": "code",
      "metadata": {
        "colab": {
          "base_uri": "https://localhost:8080/",
          "height": 267
        },
        "id": "rmMUcr3O0EUA",
        "outputId": "1e94fade-5a6c-4fc9-dd8a-c4d0b8480241"
      },
      "source": [
        "data.head(2)"
      ],
      "execution_count": 55,
      "outputs": [
        {
          "output_type": "execute_result",
          "data": {
            "text/html": [
              "<div>\n",
              "<style scoped>\n",
              "    .dataframe tbody tr th:only-of-type {\n",
              "        vertical-align: middle;\n",
              "    }\n",
              "\n",
              "    .dataframe tbody tr th {\n",
              "        vertical-align: top;\n",
              "    }\n",
              "\n",
              "    .dataframe thead th {\n",
              "        text-align: right;\n",
              "    }\n",
              "</style>\n",
              "<table border=\"1\" class=\"dataframe\">\n",
              "  <thead>\n",
              "    <tr style=\"text-align: right;\">\n",
              "      <th></th>\n",
              "      <th>label</th>\n",
              "      <th>text</th>\n",
              "      <th>length</th>\n",
              "      <th>title</th>\n",
              "      <th>title_length</th>\n",
              "      <th>click_through</th>\n",
              "      <th>abandoned_cart</th>\n",
              "      <th>unsubscribed</th>\n",
              "      <th>open_rate</th>\n",
              "      <th>num_pics</th>\n",
              "      <th>num_videos</th>\n",
              "      <th>video_length</th>\n",
              "      <th>length_binned</th>\n",
              "      <th>title_length_binned</th>\n",
              "      <th>campain_type</th>\n",
              "      <th>industry</th>\n",
              "    </tr>\n",
              "  </thead>\n",
              "  <tbody>\n",
              "    <tr>\n",
              "      <th>0</th>\n",
              "      <td>0</td>\n",
              "      <td>Go until jurong point, crazy.. Available only ...</td>\n",
              "      <td>20</td>\n",
              "      <td>Go until jurong point, crazy</td>\n",
              "      <td>5</td>\n",
              "      <td>0</td>\n",
              "      <td>1</td>\n",
              "      <td>1</td>\n",
              "      <td>1</td>\n",
              "      <td>2</td>\n",
              "      <td>2</td>\n",
              "      <td>69</td>\n",
              "      <td>med</td>\n",
              "      <td>med</td>\n",
              "      <td>Promotional</td>\n",
              "      <td>Medical</td>\n",
              "    </tr>\n",
              "    <tr>\n",
              "      <th>1</th>\n",
              "      <td>0</td>\n",
              "      <td>Ok lar... Joking wif u oni...</td>\n",
              "      <td>6</td>\n",
              "      <td>Ok lar</td>\n",
              "      <td>2</td>\n",
              "      <td>1</td>\n",
              "      <td>0</td>\n",
              "      <td>1</td>\n",
              "      <td>0</td>\n",
              "      <td>1</td>\n",
              "      <td>3</td>\n",
              "      <td>107</td>\n",
              "      <td>small</td>\n",
              "      <td>small</td>\n",
              "      <td>Survey</td>\n",
              "      <td>Hospitality</td>\n",
              "    </tr>\n",
              "  </tbody>\n",
              "</table>\n",
              "</div>"
            ],
            "text/plain": [
              "   label  ...     industry\n",
              "0      0  ...      Medical\n",
              "1      0  ...  Hospitality\n",
              "\n",
              "[2 rows x 16 columns]"
            ]
          },
          "metadata": {
            "tags": []
          },
          "execution_count": 55
        }
      ]
    },
    {
      "cell_type": "code",
      "metadata": {
        "colab": {
          "base_uri": "https://localhost:8080/"
        },
        "id": "nLFr9ogmadJw",
        "outputId": "82278b79-69eb-4b4d-d2c1-419238404895"
      },
      "source": [
        "print(data.columns)"
      ],
      "execution_count": 37,
      "outputs": [
        {
          "output_type": "stream",
          "text": [
            "Index(['label', 'text', 'length', 'title', 'title_length', 'click_through',\n",
            "       'abondoned_cart', 'open_rate', 'num_pics', 'num_videos', 'video_length',\n",
            "       'length_binned', 'title_length_binned', 'campain_type', 'industry'],\n",
            "      dtype='object')\n"
          ],
          "name": "stdout"
        }
      ]
    },
    {
      "cell_type": "code",
      "metadata": {
        "colab": {
          "base_uri": "https://localhost:8080/"
        },
        "id": "Xasx9uFrzlcm",
        "outputId": "4ae7aaf4-4465-48c8-f4fe-4ab67c185388"
      },
      "source": [
        "print(target_variables)"
      ],
      "execution_count": 38,
      "outputs": [
        {
          "output_type": "stream",
          "text": [
            "['label', 'unsubscribes', 'open_rate', 'click_through', 'abandoned_cart']\n"
          ],
          "name": "stdout"
        }
      ]
    },
    {
      "cell_type": "code",
      "metadata": {
        "id": "vDQsKQxIzp7n"
      },
      "source": [
        ""
      ],
      "execution_count": null,
      "outputs": []
    },
    {
      "cell_type": "code",
      "metadata": {
        "id": "opOYF63IYVqv"
      },
      "source": [
        "# pick a variable column to the list above(for now the target variable should be categorical in nature)\n",
        "\n",
        "selected_dependent_target_variable =  target_variables[0] # label\n",
        "\n",
        "# dropping all other dependent variables not being used in analysis as we don't have this data for the test data\n",
        "\n",
        "# drop 'text' and 'title' for now as not necessarily performing NLP on the data at this type \n",
        "# NLP and Computer Vision change scope and scale of the project\n",
        "\n",
        "X = data.drop(columns=target_variables)\n",
        "X = X.drop(columns=['text','title'])\n",
        "\n",
        "# Dropping length to just make prediction based on bin, not specific value, \n",
        "# otherwise I would need to separate models, with and without the specific value\n",
        "\n",
        "# might have to do this for video_length/title_length if going to switch out the bin values \n",
        "X = X.drop(columns=['length'])\n",
        "\n",
        "y = data[selected_dependent_target_variable]"
      ],
      "execution_count": 56,
      "outputs": []
    },
    {
      "cell_type": "code",
      "metadata": {
        "id": "q6wK-Yj7bfFS"
      },
      "source": [
        "X_temp = X.copy()\n",
        "X = pd.get_dummies(X)"
      ],
      "execution_count": 57,
      "outputs": []
    },
    {
      "cell_type": "code",
      "metadata": {
        "id": "vjDAXQlnYTOr"
      },
      "source": [
        "# creating train test split for TFIDF Vectorizer:\n",
        "X_train, X_test, y_train, y_test = train_test_split(X, y, test_size=0.25, random_state=42)\n"
      ],
      "execution_count": 60,
      "outputs": []
    },
    {
      "cell_type": "code",
      "metadata": {
        "id": "0ZDiosnaY381",
        "colab": {
          "base_uri": "https://localhost:8080/",
          "height": 241
        },
        "outputId": "d32e8ad3-eb0e-4f10-d531-95ee62bb061f"
      },
      "source": [
        "X_train.head()"
      ],
      "execution_count": null,
      "outputs": [
        {
          "output_type": "execute_result",
          "data": {
            "text/html": [
              "<div>\n",
              "<style scoped>\n",
              "    .dataframe tbody tr th:only-of-type {\n",
              "        vertical-align: middle;\n",
              "    }\n",
              "\n",
              "    .dataframe tbody tr th {\n",
              "        vertical-align: top;\n",
              "    }\n",
              "\n",
              "    .dataframe thead th {\n",
              "        text-align: right;\n",
              "    }\n",
              "</style>\n",
              "<table border=\"1\" class=\"dataframe\">\n",
              "  <thead>\n",
              "    <tr style=\"text-align: right;\">\n",
              "      <th></th>\n",
              "      <th>label</th>\n",
              "      <th>title_length</th>\n",
              "      <th>abondoned_cart</th>\n",
              "      <th>open_rate</th>\n",
              "      <th>num_pics</th>\n",
              "      <th>num_videos</th>\n",
              "      <th>video_length</th>\n",
              "      <th>length_binned_(0, 10]</th>\n",
              "      <th>length_binned_(10, 20]</th>\n",
              "      <th>length_binned_(20, 40]</th>\n",
              "      <th>length_binned_(40, 200]</th>\n",
              "      <th>title_length_binned_(0, 4]</th>\n",
              "      <th>title_length_binned_(4, 8]</th>\n",
              "      <th>title_length_binned_(8, 12]</th>\n",
              "      <th>title_length_binned_(12, 16]</th>\n",
              "      <th>title_length_binned_(16, 100]</th>\n",
              "    </tr>\n",
              "  </thead>\n",
              "  <tbody>\n",
              "    <tr>\n",
              "      <th>5022</th>\n",
              "      <td>0</td>\n",
              "      <td>19</td>\n",
              "      <td>0</td>\n",
              "      <td>1</td>\n",
              "      <td>2</td>\n",
              "      <td>1</td>\n",
              "      <td>19</td>\n",
              "      <td>0</td>\n",
              "      <td>1</td>\n",
              "      <td>0</td>\n",
              "      <td>0</td>\n",
              "      <td>0</td>\n",
              "      <td>0</td>\n",
              "      <td>0</td>\n",
              "      <td>0</td>\n",
              "      <td>1</td>\n",
              "    </tr>\n",
              "    <tr>\n",
              "      <th>4411</th>\n",
              "      <td>0</td>\n",
              "      <td>7</td>\n",
              "      <td>1</td>\n",
              "      <td>0</td>\n",
              "      <td>5</td>\n",
              "      <td>0</td>\n",
              "      <td>109</td>\n",
              "      <td>1</td>\n",
              "      <td>0</td>\n",
              "      <td>0</td>\n",
              "      <td>0</td>\n",
              "      <td>0</td>\n",
              "      <td>1</td>\n",
              "      <td>0</td>\n",
              "      <td>0</td>\n",
              "      <td>0</td>\n",
              "    </tr>\n",
              "    <tr>\n",
              "      <th>2930</th>\n",
              "      <td>0</td>\n",
              "      <td>5</td>\n",
              "      <td>0</td>\n",
              "      <td>0</td>\n",
              "      <td>1</td>\n",
              "      <td>1</td>\n",
              "      <td>239</td>\n",
              "      <td>1</td>\n",
              "      <td>0</td>\n",
              "      <td>0</td>\n",
              "      <td>0</td>\n",
              "      <td>0</td>\n",
              "      <td>1</td>\n",
              "      <td>0</td>\n",
              "      <td>0</td>\n",
              "      <td>0</td>\n",
              "    </tr>\n",
              "    <tr>\n",
              "      <th>3046</th>\n",
              "      <td>0</td>\n",
              "      <td>1</td>\n",
              "      <td>1</td>\n",
              "      <td>1</td>\n",
              "      <td>2</td>\n",
              "      <td>1</td>\n",
              "      <td>142</td>\n",
              "      <td>0</td>\n",
              "      <td>0</td>\n",
              "      <td>1</td>\n",
              "      <td>0</td>\n",
              "      <td>1</td>\n",
              "      <td>0</td>\n",
              "      <td>0</td>\n",
              "      <td>0</td>\n",
              "      <td>0</td>\n",
              "    </tr>\n",
              "    <tr>\n",
              "      <th>331</th>\n",
              "      <td>0</td>\n",
              "      <td>11</td>\n",
              "      <td>1</td>\n",
              "      <td>0</td>\n",
              "      <td>0</td>\n",
              "      <td>3</td>\n",
              "      <td>37</td>\n",
              "      <td>0</td>\n",
              "      <td>1</td>\n",
              "      <td>0</td>\n",
              "      <td>0</td>\n",
              "      <td>0</td>\n",
              "      <td>0</td>\n",
              "      <td>1</td>\n",
              "      <td>0</td>\n",
              "      <td>0</td>\n",
              "    </tr>\n",
              "  </tbody>\n",
              "</table>\n",
              "</div>"
            ],
            "text/plain": [
              "      label  ...  title_length_binned_(16, 100]\n",
              "5022      0  ...                              1\n",
              "4411      0  ...                              0\n",
              "2930      0  ...                              0\n",
              "3046      0  ...                              0\n",
              "331       0  ...                              0\n",
              "\n",
              "[5 rows x 16 columns]"
            ]
          },
          "metadata": {
            "tags": []
          },
          "execution_count": 392
        }
      ]
    },
    {
      "cell_type": "code",
      "metadata": {
        "id": "0ypAbl67YCnk"
      },
      "source": [
        "\n",
        "rf = RandomForestClassifier()\n",
        "\n",
        "rf.fit(X_train, y_train)\n",
        "rf_preds = rf.predict_proba(X_test)"
      ],
      "execution_count": 61,
      "outputs": []
    },
    {
      "cell_type": "code",
      "metadata": {
        "colab": {
          "base_uri": "https://localhost:8080/"
        },
        "id": "EL3BrjSMauiX",
        "outputId": "87af5af7-98b3-4dee-87e3-fb7d010314a4"
      },
      "source": [
        "rf_preds"
      ],
      "execution_count": null,
      "outputs": [
        {
          "output_type": "execute_result",
          "data": {
            "text/plain": [
              "array([[0.2 , 0.8 ],\n",
              "       [0.44, 0.56],\n",
              "       [0.34, 0.66],\n",
              "       ...,\n",
              "       [0.72, 0.28],\n",
              "       [0.61, 0.39],\n",
              "       [0.8 , 0.2 ]])"
            ]
          },
          "metadata": {
            "tags": []
          },
          "execution_count": 394
        }
      ]
    },
    {
      "cell_type": "code",
      "metadata": {
        "id": "q2SzHjkafB3F"
      },
      "source": [
        "rf_preds = rf_preds.argmax(1)"
      ],
      "execution_count": 62,
      "outputs": []
    },
    {
      "cell_type": "code",
      "metadata": {
        "colab": {
          "base_uri": "https://localhost:8080/"
        },
        "id": "UQSrLddxYy6W",
        "outputId": "7f966c35-3f55-44f6-96ef-4f642c8e84b5"
      },
      "source": [
        "print(\"Random Forest Regression on Single Feature: Length:\",'\\n\\n', classification_report(rf_preds,y_test))"
      ],
      "execution_count": 65,
      "outputs": [
        {
          "output_type": "stream",
          "text": [
            "Random Forest Regression on Single Feature: Length: \n",
            "\n",
            "               precision    recall  f1-score   support\n",
            "\n",
            "           0       0.96      0.88      0.92      1211\n",
            "           1       0.20      0.46      0.28        82\n",
            "\n",
            "    accuracy                           0.85      1293\n",
            "   macro avg       0.58      0.67      0.60      1293\n",
            "weighted avg       0.91      0.85      0.88      1293\n",
            "\n"
          ],
          "name": "stdout"
        }
      ]
    },
    {
      "cell_type": "code",
      "metadata": {
        "id": "IN4kpAMq7ycG"
      },
      "source": [
        "# do pop() list for categories and then replace with remaining list"
      ],
      "execution_count": null,
      "outputs": []
    },
    {
      "cell_type": "code",
      "metadata": {
        "id": "nlMHeMC405t-"
      },
      "source": [
        "single_input = X_temp.iloc[0]\n",
        "single_input = pd.DataFrame(single_input).T\n",
        "\n",
        "# Change Input Value Here!\n",
        "shortest = single_input.copy()\n",
        "bigger = single_input.copy()\n",
        "biggest = single_input.copy()\n",
        "# single_input.video_length = 'small' # etc\n",
        "single_input = pd.get_dummies(single_input, columns=['length_binned', 'title_length_binned'])\n",
        "single_input = single_input.reindex(columns = X.columns, fill_value=0)\n"
      ],
      "execution_count": 66,
      "outputs": []
    },
    {
      "cell_type": "code",
      "metadata": {
        "id": "cIpX_KHW00xV",
        "colab": {
          "base_uri": "https://localhost:8080/",
          "height": 100
        },
        "outputId": "44df2016-cd96-46d6-924e-1396d5cf88df"
      },
      "source": [
        "single_input\n",
        "\n"
      ],
      "execution_count": 67,
      "outputs": [
        {
          "output_type": "execute_result",
          "data": {
            "text/html": [
              "<div>\n",
              "<style scoped>\n",
              "    .dataframe tbody tr th:only-of-type {\n",
              "        vertical-align: middle;\n",
              "    }\n",
              "\n",
              "    .dataframe tbody tr th {\n",
              "        vertical-align: top;\n",
              "    }\n",
              "\n",
              "    .dataframe thead th {\n",
              "        text-align: right;\n",
              "    }\n",
              "</style>\n",
              "<table border=\"1\" class=\"dataframe\">\n",
              "  <thead>\n",
              "    <tr style=\"text-align: right;\">\n",
              "      <th></th>\n",
              "      <th>title_length</th>\n",
              "      <th>num_pics</th>\n",
              "      <th>num_videos</th>\n",
              "      <th>video_length</th>\n",
              "      <th>length_binned_small</th>\n",
              "      <th>length_binned_med</th>\n",
              "      <th>length_binned_big</th>\n",
              "      <th>length_binned_biggest</th>\n",
              "      <th>title_length_binned_small</th>\n",
              "      <th>title_length_binned_med</th>\n",
              "      <th>title_length_binned_big</th>\n",
              "      <th>title_length_binned_bigger</th>\n",
              "      <th>title_length_binned_biggest</th>\n",
              "      <th>campain_type_No_Opener</th>\n",
              "      <th>campain_type_Promotional</th>\n",
              "      <th>campain_type_Revenue_Based</th>\n",
              "      <th>campain_type_Survey</th>\n",
              "      <th>campain_type_abandoned_cart</th>\n",
              "      <th>campain_type_engagement_campaign</th>\n",
              "      <th>industry_Automotive</th>\n",
              "      <th>industry_Hospitality</th>\n",
              "      <th>industry_Industrial</th>\n",
              "      <th>industry_Medical</th>\n",
              "      <th>industry_Real_Estate</th>\n",
              "    </tr>\n",
              "  </thead>\n",
              "  <tbody>\n",
              "    <tr>\n",
              "      <th>0</th>\n",
              "      <td>5</td>\n",
              "      <td>2</td>\n",
              "      <td>2</td>\n",
              "      <td>69</td>\n",
              "      <td>0</td>\n",
              "      <td>1</td>\n",
              "      <td>0</td>\n",
              "      <td>0</td>\n",
              "      <td>0</td>\n",
              "      <td>1</td>\n",
              "      <td>0</td>\n",
              "      <td>0</td>\n",
              "      <td>0</td>\n",
              "      <td>0</td>\n",
              "      <td>0</td>\n",
              "      <td>0</td>\n",
              "      <td>0</td>\n",
              "      <td>0</td>\n",
              "      <td>0</td>\n",
              "      <td>0</td>\n",
              "      <td>0</td>\n",
              "      <td>0</td>\n",
              "      <td>0</td>\n",
              "      <td>0</td>\n",
              "    </tr>\n",
              "  </tbody>\n",
              "</table>\n",
              "</div>"
            ],
            "text/plain": [
              "  title_length num_pics  ... industry_Medical industry_Real_Estate\n",
              "0            5        2  ...                0                    0\n",
              "\n",
              "[1 rows x 24 columns]"
            ]
          },
          "metadata": {
            "tags": []
          },
          "execution_count": 67
        }
      ]
    },
    {
      "cell_type": "code",
      "metadata": {
        "id": "i9y2xNeFwPKp"
      },
      "source": [
        "shortest = single_input.copy()\n",
        "bigger = single_input.copy()\n",
        "biggest = single_input.copy()\n"
      ],
      "execution_count": 73,
      "outputs": []
    },
    {
      "cell_type": "code",
      "metadata": {
        "id": "1dHkA4dCi4ks"
      },
      "source": [
        "shortest['length_binned_med'] -=  -1\n",
        "shortest['length_binned_small'] +=  1\n",
        "\n",
        "bigger['length_binned_med'] -=  -1\n",
        "bigger['length_binned_big'] +=  1\n",
        "\n",
        "biggest['length_binned_med'] -=  -1\n",
        "biggest['length_binned_biggest'] +=  1"
      ],
      "execution_count": 74,
      "outputs": []
    },
    {
      "cell_type": "code",
      "metadata": {
        "id": "Af1Z1gkXiefo",
        "colab": {
          "base_uri": "https://localhost:8080/"
        },
        "outputId": "33497ac6-2c8d-4b38-a415-caa05ecaa5e6"
      },
      "source": [
        "\n",
        "rf_single_pred = rf.predict_proba(single_input)\n",
        "print(rf_single_pred)"
      ],
      "execution_count": 84,
      "outputs": [
        {
          "output_type": "stream",
          "text": [
            "[[0.87 0.13]]\n"
          ],
          "name": "stdout"
        }
      ]
    },
    {
      "cell_type": "code",
      "metadata": {
        "colab": {
          "base_uri": "https://localhost:8080/"
        },
        "id": "0g6whIWHyWhG",
        "outputId": "108ea6fb-7f11-496e-9b9d-2882501bb57b"
      },
      "source": [
        "print(rf.predict_proba(shortest))\n",
        "print(rf.predict_proba(bigger))\n",
        "print(rf.predict_proba(biggest))"
      ],
      "execution_count": 82,
      "outputs": [
        {
          "output_type": "stream",
          "text": [
            "[[0.96 0.04]]\n",
            "[[0.87 0.13]]\n",
            "[[0.9 0.1]]\n"
          ],
          "name": "stdout"
        }
      ]
    },
    {
      "cell_type": "markdown",
      "metadata": {
        "id": "-SzzRXx0jFVo"
      },
      "source": [
        "#### Creating Groupby groups for predictions to extrapolate probabilities by group"
      ]
    },
    {
      "cell_type": "code",
      "metadata": {
        "colab": {
          "base_uri": "https://localhost:8080/"
        },
        "id": "DzneoSIZexNu",
        "outputId": "4e086081-f0f6-43a4-9d43-b77d4e4ab0af"
      },
      "source": [
        "X_test['rf_preds'] = rf_preds"
      ],
      "execution_count": null,
      "outputs": [
        {
          "output_type": "stream",
          "text": [
            "/usr/local/lib/python3.7/dist-packages/ipykernel_launcher.py:1: SettingWithCopyWarning: \n",
            "A value is trying to be set on a copy of a slice from a DataFrame.\n",
            "Try using .loc[row_indexer,col_indexer] = value instead\n",
            "\n",
            "See the caveats in the documentation: https://pandas.pydata.org/pandas-docs/stable/user_guide/indexing.html#returning-a-view-versus-a-copy\n",
            "  \"\"\"Entry point for launching an IPython kernel.\n"
          ],
          "name": "stderr"
        }
      ]
    },
    {
      "cell_type": "code",
      "metadata": {
        "colab": {
          "base_uri": "https://localhost:8080/",
          "height": 419
        },
        "id": "VUOKfDopfKgX",
        "outputId": "953be2ec-6c7f-4cd6-8135-d540443f1901"
      },
      "source": [
        "X_test[X_test.rf_preds == 1]"
      ],
      "execution_count": null,
      "outputs": [
        {
          "output_type": "execute_result",
          "data": {
            "text/html": [
              "<div>\n",
              "<style scoped>\n",
              "    .dataframe tbody tr th:only-of-type {\n",
              "        vertical-align: middle;\n",
              "    }\n",
              "\n",
              "    .dataframe tbody tr th {\n",
              "        vertical-align: top;\n",
              "    }\n",
              "\n",
              "    .dataframe thead th {\n",
              "        text-align: right;\n",
              "    }\n",
              "</style>\n",
              "<table border=\"1\" class=\"dataframe\">\n",
              "  <thead>\n",
              "    <tr style=\"text-align: right;\">\n",
              "      <th></th>\n",
              "      <th>label</th>\n",
              "      <th>length</th>\n",
              "      <th>title_length</th>\n",
              "      <th>abondoned_cart</th>\n",
              "      <th>open_rate</th>\n",
              "      <th>num_pics</th>\n",
              "      <th>num_videos</th>\n",
              "      <th>video_length</th>\n",
              "      <th>rf_preds</th>\n",
              "    </tr>\n",
              "  </thead>\n",
              "  <tbody>\n",
              "    <tr>\n",
              "      <th>3245</th>\n",
              "      <td>0</td>\n",
              "      <td>26</td>\n",
              "      <td>26</td>\n",
              "      <td>0</td>\n",
              "      <td>0</td>\n",
              "      <td>3</td>\n",
              "      <td>3</td>\n",
              "      <td>142</td>\n",
              "      <td>1</td>\n",
              "    </tr>\n",
              "    <tr>\n",
              "      <th>2484</th>\n",
              "      <td>0</td>\n",
              "      <td>28</td>\n",
              "      <td>12</td>\n",
              "      <td>1</td>\n",
              "      <td>0</td>\n",
              "      <td>2</td>\n",
              "      <td>0</td>\n",
              "      <td>31</td>\n",
              "      <td>1</td>\n",
              "    </tr>\n",
              "    <tr>\n",
              "      <th>812</th>\n",
              "      <td>1</td>\n",
              "      <td>23</td>\n",
              "      <td>23</td>\n",
              "      <td>1</td>\n",
              "      <td>1</td>\n",
              "      <td>3</td>\n",
              "      <td>2</td>\n",
              "      <td>112</td>\n",
              "      <td>1</td>\n",
              "    </tr>\n",
              "    <tr>\n",
              "      <th>2991</th>\n",
              "      <td>0</td>\n",
              "      <td>7</td>\n",
              "      <td>1</td>\n",
              "      <td>1</td>\n",
              "      <td>1</td>\n",
              "      <td>1</td>\n",
              "      <td>1</td>\n",
              "      <td>35</td>\n",
              "      <td>1</td>\n",
              "    </tr>\n",
              "    <tr>\n",
              "      <th>2942</th>\n",
              "      <td>0</td>\n",
              "      <td>4</td>\n",
              "      <td>2</td>\n",
              "      <td>0</td>\n",
              "      <td>1</td>\n",
              "      <td>1</td>\n",
              "      <td>0</td>\n",
              "      <td>220</td>\n",
              "      <td>1</td>\n",
              "    </tr>\n",
              "    <tr>\n",
              "      <th>...</th>\n",
              "      <td>...</td>\n",
              "      <td>...</td>\n",
              "      <td>...</td>\n",
              "      <td>...</td>\n",
              "      <td>...</td>\n",
              "      <td>...</td>\n",
              "      <td>...</td>\n",
              "      <td>...</td>\n",
              "      <td>...</td>\n",
              "    </tr>\n",
              "    <tr>\n",
              "      <th>949</th>\n",
              "      <td>0</td>\n",
              "      <td>9</td>\n",
              "      <td>9</td>\n",
              "      <td>1</td>\n",
              "      <td>0</td>\n",
              "      <td>4</td>\n",
              "      <td>3</td>\n",
              "      <td>195</td>\n",
              "      <td>1</td>\n",
              "    </tr>\n",
              "    <tr>\n",
              "      <th>2450</th>\n",
              "      <td>0</td>\n",
              "      <td>4</td>\n",
              "      <td>1</td>\n",
              "      <td>0</td>\n",
              "      <td>0</td>\n",
              "      <td>1</td>\n",
              "      <td>0</td>\n",
              "      <td>224</td>\n",
              "      <td>1</td>\n",
              "    </tr>\n",
              "    <tr>\n",
              "      <th>668</th>\n",
              "      <td>0</td>\n",
              "      <td>5</td>\n",
              "      <td>5</td>\n",
              "      <td>1</td>\n",
              "      <td>1</td>\n",
              "      <td>3</td>\n",
              "      <td>2</td>\n",
              "      <td>184</td>\n",
              "      <td>1</td>\n",
              "    </tr>\n",
              "    <tr>\n",
              "      <th>218</th>\n",
              "      <td>0</td>\n",
              "      <td>8</td>\n",
              "      <td>8</td>\n",
              "      <td>1</td>\n",
              "      <td>0</td>\n",
              "      <td>1</td>\n",
              "      <td>2</td>\n",
              "      <td>218</td>\n",
              "      <td>1</td>\n",
              "    </tr>\n",
              "    <tr>\n",
              "      <th>3875</th>\n",
              "      <td>0</td>\n",
              "      <td>5</td>\n",
              "      <td>5</td>\n",
              "      <td>1</td>\n",
              "      <td>0</td>\n",
              "      <td>5</td>\n",
              "      <td>2</td>\n",
              "      <td>117</td>\n",
              "      <td>1</td>\n",
              "    </tr>\n",
              "  </tbody>\n",
              "</table>\n",
              "<p>720 rows × 9 columns</p>\n",
              "</div>"
            ],
            "text/plain": [
              "      label  length  title_length  ...  num_videos  video_length  rf_preds\n",
              "3245      0      26            26  ...           3           142         1\n",
              "2484      0      28            12  ...           0            31         1\n",
              "812       1      23            23  ...           2           112         1\n",
              "2991      0       7             1  ...           1            35         1\n",
              "2942      0       4             2  ...           0           220         1\n",
              "...     ...     ...           ...  ...         ...           ...       ...\n",
              "949       0       9             9  ...           3           195         1\n",
              "2450      0       4             1  ...           0           224         1\n",
              "668       0       5             5  ...           2           184         1\n",
              "218       0       8             8  ...           2           218         1\n",
              "3875      0       5             5  ...           2           117         1\n",
              "\n",
              "[720 rows x 9 columns]"
            ]
          },
          "metadata": {
            "tags": []
          },
          "execution_count": 274
        }
      ]
    },
    {
      "cell_type": "code",
      "metadata": {
        "colab": {
          "base_uri": "https://localhost:8080/"
        },
        "id": "WkT__xApf1eQ",
        "outputId": "e5ff3e83-ea0a-4582-9751-9fa9f073afd6"
      },
      "source": [
        "X_test.length.describe()"
      ],
      "execution_count": null,
      "outputs": [
        {
          "output_type": "execute_result",
          "data": {
            "text/plain": [
              "count    1393.000000\n",
              "mean       15.827710\n",
              "std        12.887685\n",
              "min         1.000000\n",
              "25%         7.000000\n",
              "50%        12.000000\n",
              "75%        23.000000\n",
              "max       171.000000\n",
              "Name: length, dtype: float64"
            ]
          },
          "metadata": {
            "tags": []
          },
          "execution_count": 275
        }
      ]
    },
    {
      "cell_type": "code",
      "metadata": {
        "colab": {
          "base_uri": "https://localhost:8080/"
        },
        "id": "XP2XzANXfwzN",
        "outputId": "b049f513-97f1-438e-f6a0-b0b70d8fdb92"
      },
      "source": [
        "bins = [0, 10,20,30,40,200]\n",
        "X_test['length_binned'] = pd.cut(X_test['length'], bins)"
      ],
      "execution_count": null,
      "outputs": [
        {
          "output_type": "stream",
          "text": [
            "/usr/local/lib/python3.7/dist-packages/ipykernel_launcher.py:2: SettingWithCopyWarning: \n",
            "A value is trying to be set on a copy of a slice from a DataFrame.\n",
            "Try using .loc[row_indexer,col_indexer] = value instead\n",
            "\n",
            "See the caveats in the documentation: https://pandas.pydata.org/pandas-docs/stable/user_guide/indexing.html#returning-a-view-versus-a-copy\n",
            "  \n"
          ],
          "name": "stderr"
        }
      ]
    },
    {
      "cell_type": "code",
      "metadata": {
        "colab": {
          "base_uri": "https://localhost:8080/"
        },
        "id": "tvMpYlH8gCMJ",
        "outputId": "a92a4754-e5e1-4fa0-99c1-113ffb68268f"
      },
      "source": [
        "X_test[X_test['rf_preds'] == 1].groupby(['length_binned'])['rf_preds'].count() / len(X_test['rf_preds'])"
      ],
      "execution_count": null,
      "outputs": [
        {
          "output_type": "execute_result",
          "data": {
            "text/plain": [
              "length_binned\n",
              "(0, 10]      0.223259\n",
              "(10, 20]     0.122757\n",
              "(20, 30]     0.131371\n",
              "(30, 40]     0.032304\n",
              "(40, 200]    0.007179\n",
              "Name: rf_preds, dtype: float64"
            ]
          },
          "metadata": {
            "tags": []
          },
          "execution_count": 280
        }
      ]
    },
    {
      "cell_type": "code",
      "metadata": {
        "colab": {
          "base_uri": "https://localhost:8080/"
        },
        "id": "cfH7RMJGgoBP",
        "outputId": "5e5ed3e0-d1a3-4bad-8b1c-462f6f323b75"
      },
      "source": [
        "X_test[X_test['rf_preds'] == 0].groupby(['length_binned'])['rf_preds'].count() / len(X_test['rf_preds'])"
      ],
      "execution_count": null,
      "outputs": [
        {
          "output_type": "execute_result",
          "data": {
            "text/plain": [
              "length_binned\n",
              "(0, 10]      0.209620\n",
              "(10, 20]     0.144293\n",
              "(20, 30]     0.094042\n",
              "(30, 40]     0.019383\n",
              "(40, 200]    0.015793\n",
              "Name: rf_preds, dtype: float64"
            ]
          },
          "metadata": {
            "tags": []
          },
          "execution_count": 281
        }
      ]
    },
    {
      "cell_type": "code",
      "metadata": {
        "colab": {
          "base_uri": "https://localhost:8080/",
          "height": 204
        },
        "id": "vLI3iOGvgf2M",
        "outputId": "a57ac161-c479-4c77-e23d-56fc3c75dcc0"
      },
      "source": [
        "X_test.head()"
      ],
      "execution_count": null,
      "outputs": [
        {
          "output_type": "execute_result",
          "data": {
            "text/html": [
              "<div>\n",
              "<style scoped>\n",
              "    .dataframe tbody tr th:only-of-type {\n",
              "        vertical-align: middle;\n",
              "    }\n",
              "\n",
              "    .dataframe tbody tr th {\n",
              "        vertical-align: top;\n",
              "    }\n",
              "\n",
              "    .dataframe thead th {\n",
              "        text-align: right;\n",
              "    }\n",
              "</style>\n",
              "<table border=\"1\" class=\"dataframe\">\n",
              "  <thead>\n",
              "    <tr style=\"text-align: right;\">\n",
              "      <th></th>\n",
              "      <th>label</th>\n",
              "      <th>length</th>\n",
              "      <th>title_length</th>\n",
              "      <th>abondoned_cart</th>\n",
              "      <th>open_rate</th>\n",
              "      <th>num_pics</th>\n",
              "      <th>num_videos</th>\n",
              "      <th>video_length</th>\n",
              "      <th>rf_preds</th>\n",
              "      <th>length_binned</th>\n",
              "    </tr>\n",
              "  </thead>\n",
              "  <tbody>\n",
              "    <tr>\n",
              "      <th>3245</th>\n",
              "      <td>0</td>\n",
              "      <td>26</td>\n",
              "      <td>26</td>\n",
              "      <td>0</td>\n",
              "      <td>0</td>\n",
              "      <td>3</td>\n",
              "      <td>3</td>\n",
              "      <td>142</td>\n",
              "      <td>1</td>\n",
              "      <td>(20, 30]</td>\n",
              "    </tr>\n",
              "    <tr>\n",
              "      <th>944</th>\n",
              "      <td>0</td>\n",
              "      <td>43</td>\n",
              "      <td>17</td>\n",
              "      <td>1</td>\n",
              "      <td>0</td>\n",
              "      <td>1</td>\n",
              "      <td>2</td>\n",
              "      <td>7</td>\n",
              "      <td>0</td>\n",
              "      <td>(40, 200]</td>\n",
              "    </tr>\n",
              "    <tr>\n",
              "      <th>1044</th>\n",
              "      <td>1</td>\n",
              "      <td>19</td>\n",
              "      <td>9</td>\n",
              "      <td>1</td>\n",
              "      <td>0</td>\n",
              "      <td>5</td>\n",
              "      <td>0</td>\n",
              "      <td>85</td>\n",
              "      <td>0</td>\n",
              "      <td>(10, 20]</td>\n",
              "    </tr>\n",
              "    <tr>\n",
              "      <th>2484</th>\n",
              "      <td>0</td>\n",
              "      <td>28</td>\n",
              "      <td>12</td>\n",
              "      <td>1</td>\n",
              "      <td>0</td>\n",
              "      <td>2</td>\n",
              "      <td>0</td>\n",
              "      <td>31</td>\n",
              "      <td>1</td>\n",
              "      <td>(20, 30]</td>\n",
              "    </tr>\n",
              "    <tr>\n",
              "      <th>812</th>\n",
              "      <td>1</td>\n",
              "      <td>23</td>\n",
              "      <td>23</td>\n",
              "      <td>1</td>\n",
              "      <td>1</td>\n",
              "      <td>3</td>\n",
              "      <td>2</td>\n",
              "      <td>112</td>\n",
              "      <td>1</td>\n",
              "      <td>(20, 30]</td>\n",
              "    </tr>\n",
              "  </tbody>\n",
              "</table>\n",
              "</div>"
            ],
            "text/plain": [
              "      label  length  title_length  ...  video_length  rf_preds  length_binned\n",
              "3245      0      26            26  ...           142         1       (20, 30]\n",
              "944       0      43            17  ...             7         0      (40, 200]\n",
              "1044      1      19             9  ...            85         0       (10, 20]\n",
              "2484      0      28            12  ...            31         1       (20, 30]\n",
              "812       1      23            23  ...           112         1       (20, 30]\n",
              "\n",
              "[5 rows x 10 columns]"
            ]
          },
          "metadata": {
            "tags": []
          },
          "execution_count": 279
        }
      ]
    },
    {
      "cell_type": "markdown",
      "metadata": {
        "id": "AzUnkTKwaCQP"
      },
      "source": [
        "### Note to get probability distributions for different length groupings, I think I would need to create another feature column grouping into different length bins\n",
        "(each grouped bins could infer the open rate probability without requiring a predictive model) \n",
        "\n",
        "(also I think I can change the models to give a probability prediction instead of a numeric class output, thus) \n",
        "\n",
        "Perhaps I want to specific prediction probabilities for the test input, then we can compare that with the propulation binned length probabilities. \n",
        "\n",
        "(or I could refeed the data in clipped and padded to see the open rate probabilities if it were to be longer or shorter, this would matter more if other variables were put into the model as well)\n",
        "\n",
        "THOUGHT: DOES it need ML, or just report the open rate probability given the the length/binned length vs other binned length probabilities.\n",
        "\n",
        "Report BAYESIAN PROBABILITIES?"
      ]
    },
    {
      "cell_type": "code",
      "metadata": {
        "colab": {
          "base_uri": "https://localhost:8080/"
        },
        "id": "clJanmD9Z7tq",
        "outputId": "c6fa2ad1-f15b-4363-9914-2f91cddf37c7"
      },
      "source": [
        "X_test['preds'] = lr_preds.argmax(1)"
      ],
      "execution_count": null,
      "outputs": [
        {
          "output_type": "stream",
          "text": [
            "/usr/local/lib/python3.7/dist-packages/ipykernel_launcher.py:1: SettingWithCopyWarning: \n",
            "A value is trying to be set on a copy of a slice from a DataFrame.\n",
            "Try using .loc[row_indexer,col_indexer] = value instead\n",
            "\n",
            "See the caveats in the documentation: https://pandas.pydata.org/pandas-docs/stable/user_guide/indexing.html#returning-a-view-versus-a-copy\n",
            "  \"\"\"Entry point for launching an IPython kernel.\n"
          ],
          "name": "stderr"
        }
      ]
    },
    {
      "cell_type": "code",
      "metadata": {
        "colab": {
          "base_uri": "https://localhost:8080/",
          "height": 204
        },
        "id": "p-GYf6Y_c4Cz",
        "outputId": "968d951d-c9b0-4c25-aca5-ecfa3e7088d0"
      },
      "source": [
        "X_test.head()"
      ],
      "execution_count": null,
      "outputs": [
        {
          "output_type": "execute_result",
          "data": {
            "text/html": [
              "<div>\n",
              "<style scoped>\n",
              "    .dataframe tbody tr th:only-of-type {\n",
              "        vertical-align: middle;\n",
              "    }\n",
              "\n",
              "    .dataframe tbody tr th {\n",
              "        vertical-align: top;\n",
              "    }\n",
              "\n",
              "    .dataframe thead th {\n",
              "        text-align: right;\n",
              "    }\n",
              "</style>\n",
              "<table border=\"1\" class=\"dataframe\">\n",
              "  <thead>\n",
              "    <tr style=\"text-align: right;\">\n",
              "      <th></th>\n",
              "      <th>text</th>\n",
              "      <th>length</th>\n",
              "      <th>preds</th>\n",
              "    </tr>\n",
              "  </thead>\n",
              "  <tbody>\n",
              "    <tr>\n",
              "      <th>1617</th>\n",
              "      <td>Did u download the fring app?</td>\n",
              "      <td>29</td>\n",
              "      <td>0</td>\n",
              "    </tr>\n",
              "    <tr>\n",
              "      <th>2064</th>\n",
              "      <td>Pass dis to all ur contacts n see wat u get! R...</td>\n",
              "      <td>276</td>\n",
              "      <td>1</td>\n",
              "    </tr>\n",
              "    <tr>\n",
              "      <th>1272</th>\n",
              "      <td>Ok...</td>\n",
              "      <td>5</td>\n",
              "      <td>0</td>\n",
              "    </tr>\n",
              "    <tr>\n",
              "      <th>3020</th>\n",
              "      <td>Am in film ill call you later.</td>\n",
              "      <td>30</td>\n",
              "      <td>0</td>\n",
              "    </tr>\n",
              "    <tr>\n",
              "      <th>3642</th>\n",
              "      <td>Sorry, left phone upstairs. OK, might be hecti...</td>\n",
              "      <td>107</td>\n",
              "      <td>0</td>\n",
              "    </tr>\n",
              "  </tbody>\n",
              "</table>\n",
              "</div>"
            ],
            "text/plain": [
              "                                                   text  length  preds\n",
              "1617                      Did u download the fring app?      29      0\n",
              "2064  Pass dis to all ur contacts n see wat u get! R...     276      1\n",
              "1272                                              Ok...       5      0\n",
              "3020                     Am in film ill call you later.      30      0\n",
              "3642  Sorry, left phone upstairs. OK, might be hecti...     107      0"
            ]
          },
          "metadata": {
            "tags": []
          },
          "execution_count": 146
        }
      ]
    },
    {
      "cell_type": "code",
      "metadata": {
        "id": "gThKeqy2dL8S"
      },
      "source": [
        "bins = [0, 50,100,150,200, 400]\n",
        "data['binned'] = pd.cut(data['length'], bins)"
      ],
      "execution_count": null,
      "outputs": []
    },
    {
      "cell_type": "code",
      "metadata": {
        "id": "Zo0EI63vlL_8"
      },
      "source": [
        "pd.cut(X_test['length'], bins)"
      ],
      "execution_count": null,
      "outputs": []
    },
    {
      "cell_type": "code",
      "metadata": {
        "colab": {
          "base_uri": "https://localhost:8080/"
        },
        "id": "xJEpekZ_dwoW",
        "outputId": "5fbd9032-90ec-4f77-f5c6-c24fe3a11f81"
      },
      "source": [
        "data[data['label'] == 1]['binned'].value_counts().sort_index()"
      ],
      "execution_count": null,
      "outputs": [
        {
          "output_type": "execute_result",
          "data": {
            "text/plain": [
              "(0, 50]        21\n",
              "(50, 100]      52\n",
              "(100, 150]    276\n",
              "(150, 200]    303\n",
              "(200, 400]      1\n",
              "Name: binned, dtype: int64"
            ]
          },
          "metadata": {
            "tags": []
          },
          "execution_count": 187
        }
      ]
    },
    {
      "cell_type": "code",
      "metadata": {
        "colab": {
          "base_uri": "https://localhost:8080/"
        },
        "id": "JWbWRo0NfYe1",
        "outputId": "8b3c4297-ca65-40aa-c2eb-6aeeb507dbfe"
      },
      "source": [
        "data[data['label'] == 0]['binned'].value_counts().sort_index()"
      ],
      "execution_count": null,
      "outputs": [
        {
          "output_type": "execute_result",
          "data": {
            "text/plain": [
              "(0, 50]       2168\n",
              "(50, 100]     1373\n",
              "(100, 150]     616\n",
              "(150, 200]     260\n",
              "(200, 400]      86\n",
              "Name: binned, dtype: int64"
            ]
          },
          "metadata": {
            "tags": []
          },
          "execution_count": 188
        }
      ]
    },
    {
      "cell_type": "code",
      "metadata": {
        "colab": {
          "base_uri": "https://localhost:8080/"
        },
        "id": "XSxSGt-WdyBl",
        "outputId": "507ba098-19c3-4f55-a0d6-b015fb1e0e96"
      },
      "source": [
        "X_test[X_test['preds'] == 1].shape"
      ],
      "execution_count": null,
      "outputs": [
        {
          "output_type": "execute_result",
          "data": {
            "text/plain": [
              "(19, 4)"
            ]
          },
          "metadata": {
            "tags": []
          },
          "execution_count": 161
        }
      ]
    },
    {
      "cell_type": "code",
      "metadata": {
        "colab": {
          "base_uri": "https://localhost:8080/"
        },
        "id": "6rNbCpfQezCQ",
        "outputId": "765c486a-f8b2-43fa-8623-a4b4fcdfa399"
      },
      "source": [
        "X_test[X_test['preds'] == 0].shape"
      ],
      "execution_count": null,
      "outputs": [
        {
          "output_type": "execute_result",
          "data": {
            "text/plain": [
              "(1274, 4)"
            ]
          },
          "metadata": {
            "tags": []
          },
          "execution_count": 162
        }
      ]
    },
    {
      "cell_type": "code",
      "metadata": {
        "colab": {
          "base_uri": "https://localhost:8080/"
        },
        "id": "wZF985xfe1rz",
        "outputId": "8c294eff-41ef-4db2-8d0e-1333b667d23d"
      },
      "source": [
        "y_test.value_counts()"
      ],
      "execution_count": null,
      "outputs": [
        {
          "output_type": "execute_result",
          "data": {
            "text/plain": [
              "0    1107\n",
              "1     186\n",
              "Name: label, dtype: int64"
            ]
          },
          "metadata": {
            "tags": []
          },
          "execution_count": 164
        }
      ]
    },
    {
      "cell_type": "code",
      "metadata": {
        "id": "w53moUFGe_oQ"
      },
      "source": [
        ""
      ],
      "execution_count": null,
      "outputs": []
    },
    {
      "cell_type": "markdown",
      "metadata": {
        "id": "NBlWFPCujw2d"
      },
      "source": [
        "## JUST BAYESIAN PROBABILITIES"
      ]
    },
    {
      "cell_type": "code",
      "metadata": {
        "id": "FcvFqk3FlXWn"
      },
      "source": [
        "data[data['label'] == 0]['binned'].value_counts() / len(data['label'])"
      ],
      "execution_count": null,
      "outputs": []
    },
    {
      "cell_type": "code",
      "metadata": {
        "colab": {
          "base_uri": "https://localhost:8080/"
        },
        "id": "fP8TZhjUp7CG",
        "outputId": "516fc48e-4eea-4215-fce5-1461d76d9242"
      },
      "source": [
        "# Given that the length is between 150-200, there is a 5% probaility it is Spam, \n",
        "# i.e. if the letter is shorter, it would be ideal to increase the length to increase the probability\n",
        "# this Bayesian Proability would get more complicated for more column filters.\n",
        "\n",
        "data[data['label'] == 1].groupby(['binned'])['label'].count() / len(data['label'])"
      ],
      "execution_count": null,
      "outputs": [
        {
          "output_type": "execute_result",
          "data": {
            "text/plain": [
              "binned\n",
              "(0, 50]       0.004063\n",
              "(50, 100]     0.010060\n",
              "(100, 150]    0.053395\n",
              "(150, 200]    0.058619\n",
              "(200, 400]    0.000193\n",
              "Name: label, dtype: float64"
            ]
          },
          "metadata": {
            "tags": []
          },
          "execution_count": 200
        }
      ]
    },
    {
      "cell_type": "code",
      "metadata": {
        "id": "N3SgQFTjj1rE"
      },
      "source": [
        "# Given that the length is between 150-200, there is a 5% probaility it is Spam, \n",
        "# i.e. if the letter is shorter, it would be ideal to increase the length to increase the probability\n",
        "# this Bayesian Proability would get more complicated for more column filters.\n",
        "\n",
        "data[data['label'] == 1]['binned'].value_counts() / len(data['label'])"
      ],
      "execution_count": null,
      "outputs": []
    },
    {
      "cell_type": "code",
      "metadata": {
        "colab": {
          "base_uri": "https://localhost:8080/",
          "height": 204
        },
        "id": "TfdUCmGZlGuv",
        "outputId": "abee3896-ba20-4bc6-cc50-065ee959673c"
      },
      "source": [
        "data.head()"
      ],
      "execution_count": null,
      "outputs": [
        {
          "output_type": "execute_result",
          "data": {
            "text/html": [
              "<div>\n",
              "<style scoped>\n",
              "    .dataframe tbody tr th:only-of-type {\n",
              "        vertical-align: middle;\n",
              "    }\n",
              "\n",
              "    .dataframe tbody tr th {\n",
              "        vertical-align: top;\n",
              "    }\n",
              "\n",
              "    .dataframe thead th {\n",
              "        text-align: right;\n",
              "    }\n",
              "</style>\n",
              "<table border=\"1\" class=\"dataframe\">\n",
              "  <thead>\n",
              "    <tr style=\"text-align: right;\">\n",
              "      <th></th>\n",
              "      <th>label</th>\n",
              "      <th>text</th>\n",
              "      <th>length</th>\n",
              "      <th>binned</th>\n",
              "    </tr>\n",
              "  </thead>\n",
              "  <tbody>\n",
              "    <tr>\n",
              "      <th>0</th>\n",
              "      <td>0</td>\n",
              "      <td>Go until jurong point, crazy.. Available only ...</td>\n",
              "      <td>111</td>\n",
              "      <td>(100, 150]</td>\n",
              "    </tr>\n",
              "    <tr>\n",
              "      <th>1</th>\n",
              "      <td>0</td>\n",
              "      <td>Ok lar... Joking wif u oni...</td>\n",
              "      <td>29</td>\n",
              "      <td>(0, 50]</td>\n",
              "    </tr>\n",
              "    <tr>\n",
              "      <th>2</th>\n",
              "      <td>1</td>\n",
              "      <td>Free entry in 2 a wkly comp to win FA Cup fina...</td>\n",
              "      <td>155</td>\n",
              "      <td>(150, 200]</td>\n",
              "    </tr>\n",
              "    <tr>\n",
              "      <th>3</th>\n",
              "      <td>0</td>\n",
              "      <td>U dun say so early hor... U c already then say...</td>\n",
              "      <td>49</td>\n",
              "      <td>(0, 50]</td>\n",
              "    </tr>\n",
              "    <tr>\n",
              "      <th>4</th>\n",
              "      <td>0</td>\n",
              "      <td>Nah I don't think he goes to usf, he lives aro...</td>\n",
              "      <td>61</td>\n",
              "      <td>(50, 100]</td>\n",
              "    </tr>\n",
              "  </tbody>\n",
              "</table>\n",
              "</div>"
            ],
            "text/plain": [
              "   label                                               text  length      binned\n",
              "0      0  Go until jurong point, crazy.. Available only ...     111  (100, 150]\n",
              "1      0                      Ok lar... Joking wif u oni...      29     (0, 50]\n",
              "2      1  Free entry in 2 a wkly comp to win FA Cup fina...     155  (150, 200]\n",
              "3      0  U dun say so early hor... U c already then say...      49     (0, 50]\n",
              "4      0  Nah I don't think he goes to usf, he lives aro...      61   (50, 100]"
            ]
          },
          "metadata": {
            "tags": []
          },
          "execution_count": 191
        }
      ]
    },
    {
      "cell_type": "code",
      "metadata": {
        "id": "3Mt41PZQpsPj"
      },
      "source": [
        ""
      ],
      "execution_count": null,
      "outputs": []
    }
  ]
}
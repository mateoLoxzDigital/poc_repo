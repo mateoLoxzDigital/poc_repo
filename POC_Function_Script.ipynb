{
  "nbformat": 4,
  "nbformat_minor": 0,
  "metadata": {
    "colab": {
      "name": "POC_Function_Script.ipynb",
      "provenance": [],
      "collapsed_sections": [
        "F2PRjR0nWew3",
        "-SzzRXx0jFVo",
        "AzUnkTKwaCQP",
        "NBlWFPCujw2d"
      ],
      "authorship_tag": "ABX9TyNe+0ey44+K2o31nkBoiASx",
      "include_colab_link": true
    },
    "kernelspec": {
      "name": "python3",
      "display_name": "Python 3"
    },
    "language_info": {
      "name": "python"
    }
  },
  "cells": [
    {
      "cell_type": "markdown",
      "metadata": {
        "id": "view-in-github",
        "colab_type": "text"
      },
      "source": [
        "<a href=\"https://colab.research.google.com/github/mateoLoxzDigital/poc_repo/blob/main/POC_Function_Script.ipynb\" target=\"_parent\"><img src=\"https://colab.research.google.com/assets/colab-badge.svg\" alt=\"Open In Colab\"/></a>"
      ]
    },
    {
      "cell_type": "code",
      "metadata": {
        "id": "dJWNT9Xw9o6G"
      },
      "source": [
        "# build basic Bee Plugin Template Flask App and the Marlowe button just submits the data to the Loxz Digital API"
      ],
      "execution_count": null,
      "outputs": []
    },
    {
      "cell_type": "code",
      "metadata": {
        "id": "ueQkZsK5DqmK",
        "colab": {
          "base_uri": "https://localhost:8080/"
        },
        "outputId": "e94de918-f595-414f-e7ae-7a8ed0f94784"
      },
      "source": [
        "import pandas as pd\n",
        "import numpy as np\n",
        "import matplotlib.pyplot as plt\n",
        "import seaborn as sns\n",
        "from sklearn.model_selection import train_test_split\n",
        "from sklearn.ensemble import RandomForestClassifier\n",
        "from sklearn.linear_model import LogisticRegression\n",
        "from sklearn.metrics import classification_report\n",
        "\n",
        "from google.colab import drive\n",
        "drive.mount('/content/drive')"
      ],
      "execution_count": 2,
      "outputs": [
        {
          "output_type": "stream",
          "text": [
            "Mounted at /content/drive\n"
          ],
          "name": "stdout"
        }
      ]
    },
    {
      "cell_type": "code",
      "metadata": {
        "id": "RCaOrfQwFDw9"
      },
      "source": [
        "data = pd.read_csv('/content/drive/MyDrive/MailUp_Project/data/wrangled_data.csv')"
      ],
      "execution_count": 3,
      "outputs": []
    },
    {
      "cell_type": "markdown",
      "metadata": {
        "id": "orXo_M8vX9Dg"
      },
      "source": [
        "## Regression Prediction Just  On Selected Variable\n",
        "\n",
        "(consideration, do we want to filter out other industries from training dataset?) (the industry weights are taken into account but filtering them entirely might change probabilities) (I guess just test it out???)"
      ]
    },
    {
      "cell_type": "code",
      "metadata": {
        "colab": {
          "base_uri": "https://localhost:8080/",
          "height": 284
        },
        "id": "rmMUcr3O0EUA",
        "outputId": "2b980a1b-4ada-48a1-b242-092d611a16c1"
      },
      "source": [
        "data.head(2)"
      ],
      "execution_count": 4,
      "outputs": [
        {
          "output_type": "execute_result",
          "data": {
            "text/html": [
              "<div>\n",
              "<style scoped>\n",
              "    .dataframe tbody tr th:only-of-type {\n",
              "        vertical-align: middle;\n",
              "    }\n",
              "\n",
              "    .dataframe tbody tr th {\n",
              "        vertical-align: top;\n",
              "    }\n",
              "\n",
              "    .dataframe thead th {\n",
              "        text-align: right;\n",
              "    }\n",
              "</style>\n",
              "<table border=\"1\" class=\"dataframe\">\n",
              "  <thead>\n",
              "    <tr style=\"text-align: right;\">\n",
              "      <th></th>\n",
              "      <th>Unnamed: 0</th>\n",
              "      <th>label</th>\n",
              "      <th>text</th>\n",
              "      <th>length</th>\n",
              "      <th>title</th>\n",
              "      <th>title_length</th>\n",
              "      <th>click_through</th>\n",
              "      <th>abandoned_cart</th>\n",
              "      <th>unsubscribed</th>\n",
              "      <th>open_rate</th>\n",
              "      <th>num_pics</th>\n",
              "      <th>num_videos</th>\n",
              "      <th>video_length</th>\n",
              "      <th>length_binned</th>\n",
              "      <th>title_length_binned</th>\n",
              "      <th>campain_type</th>\n",
              "      <th>industry</th>\n",
              "    </tr>\n",
              "  </thead>\n",
              "  <tbody>\n",
              "    <tr>\n",
              "      <th>0</th>\n",
              "      <td>0</td>\n",
              "      <td>0</td>\n",
              "      <td>Go until jurong point, crazy.. Available only ...</td>\n",
              "      <td>20</td>\n",
              "      <td>Go until jurong point, crazy</td>\n",
              "      <td>5</td>\n",
              "      <td>0</td>\n",
              "      <td>1</td>\n",
              "      <td>1</td>\n",
              "      <td>1</td>\n",
              "      <td>2</td>\n",
              "      <td>2</td>\n",
              "      <td>69</td>\n",
              "      <td>med</td>\n",
              "      <td>med</td>\n",
              "      <td>Promotional</td>\n",
              "      <td>Medical</td>\n",
              "    </tr>\n",
              "    <tr>\n",
              "      <th>1</th>\n",
              "      <td>1</td>\n",
              "      <td>0</td>\n",
              "      <td>Ok lar... Joking wif u oni...</td>\n",
              "      <td>6</td>\n",
              "      <td>Ok lar</td>\n",
              "      <td>2</td>\n",
              "      <td>1</td>\n",
              "      <td>0</td>\n",
              "      <td>1</td>\n",
              "      <td>0</td>\n",
              "      <td>1</td>\n",
              "      <td>3</td>\n",
              "      <td>107</td>\n",
              "      <td>small</td>\n",
              "      <td>small</td>\n",
              "      <td>Survey</td>\n",
              "      <td>Hospitality</td>\n",
              "    </tr>\n",
              "  </tbody>\n",
              "</table>\n",
              "</div>"
            ],
            "text/plain": [
              "   Unnamed: 0  label  ... campain_type     industry\n",
              "0           0      0  ...  Promotional      Medical\n",
              "1           1      0  ...       Survey  Hospitality\n",
              "\n",
              "[2 rows x 17 columns]"
            ]
          },
          "metadata": {
            "tags": []
          },
          "execution_count": 4
        }
      ]
    },
    {
      "cell_type": "code",
      "metadata": {
        "colab": {
          "base_uri": "https://localhost:8080/"
        },
        "id": "4_-xSchr5TSj",
        "outputId": "45142494-39ba-44bf-976a-1e19f237bc73"
      },
      "source": [
        "target_variables = ['label', 'unsubscribed', 'open_rate', 'click_through', 'abandoned_cart']\n",
        "campaign_types = ['Promotional', 'Survey', 'No_Opener', 'Revenue_Based', 'abandoned_cart', 'engagement_campaign']\n",
        "industry_types = ['Medical', 'Hospitality', 'Industrial', 'Automotive', 'Real_Estate']"
      ],
      "execution_count": 12,
      "outputs": [
        {
          "output_type": "stream",
          "text": [
            "Depenedent Variable: unsubscribed \n",
            "Campaign: No_Opener \n",
            "Industry: Automotive\n"
          ],
          "name": "stdout"
        }
      ]
    },
    {
      "cell_type": "code",
      "metadata": {
        "id": "Dh8iFH6SQAo1"
      },
      "source": [
        "# pick a variable column to the list above(for now the target variable should be categorical in nature)\n",
        "\n",
        "selected_dependent_target_variable =  target_variables[1] # label\n",
        "selected_campaign =  campaign_types[2] # no_opener\n",
        "selected_industry = industry_types[3] # automotive\n",
        "print(\"Depenedent Variable:\",selected_dependent_target_variable, \"\\nCampaign:\", selected_campaign, \"\\nIndustry:\", selected_industry)"
      ],
      "execution_count": null,
      "outputs": []
    },
    {
      "cell_type": "code",
      "metadata": {
        "id": "O4B32rqvBjD8"
      },
      "source": [
        "# filtering for campaign and industry\n",
        "data = data[(data.campain_type == selected_campaign) & (data.industry == selected_industry)]"
      ],
      "execution_count": 22,
      "outputs": []
    },
    {
      "cell_type": "code",
      "metadata": {
        "id": "opOYF63IYVqv"
      },
      "source": [
        "# dropping all other dependent variables not being used in analysis as we don't have this data for the test data\n",
        "\n",
        "# drop 'text' and 'title' for now as not necessarily performing NLP on the data at this type \n",
        "# NLP and Computer Vision change scope and scale of the project\n",
        "\n",
        "X = data.drop(columns=target_variables)\n",
        "\n",
        "\n",
        "X = X.drop(columns=['text','title'])\n",
        "\n",
        "# Dropping length to just make prediction based on bin, not specific value, \n",
        "# otherwise I would need to separate models, with and without the specific value\n",
        "\n",
        "# might have to do this for video_length/title_length if going to switch out the bin values \n",
        "X = X.drop(columns=['length'])\n",
        "\n",
        "y = data[selected_dependent_target_variable]"
      ],
      "execution_count": 23,
      "outputs": []
    },
    {
      "cell_type": "code",
      "metadata": {
        "id": "q6wK-Yj7bfFS"
      },
      "source": [
        "X_temp = X.copy()\n",
        "X = pd.get_dummies(X)"
      ],
      "execution_count": 24,
      "outputs": []
    },
    {
      "cell_type": "code",
      "metadata": {
        "id": "vjDAXQlnYTOr"
      },
      "source": [
        "# creating train test split:\n",
        "X_train, X_test, y_train, y_test = train_test_split(X, y, test_size=0.25, random_state=42)\n"
      ],
      "execution_count": 25,
      "outputs": []
    },
    {
      "cell_type": "code",
      "metadata": {
        "id": "0ypAbl67YCnk",
        "colab": {
          "base_uri": "https://localhost:8080/"
        },
        "outputId": "53ec85dc-c745-4ada-c23c-58c6e1e940ec"
      },
      "source": [
        "\n",
        "rf = RandomForestClassifier()\n",
        "\n",
        "rf.fit(X_train, y_train)\n"
      ],
      "execution_count": 26,
      "outputs": [
        {
          "output_type": "execute_result",
          "data": {
            "text/plain": [
              "RandomForestClassifier(bootstrap=True, ccp_alpha=0.0, class_weight=None,\n",
              "                       criterion='gini', max_depth=None, max_features='auto',\n",
              "                       max_leaf_nodes=None, max_samples=None,\n",
              "                       min_impurity_decrease=0.0, min_impurity_split=None,\n",
              "                       min_samples_leaf=1, min_samples_split=2,\n",
              "                       min_weight_fraction_leaf=0.0, n_estimators=100,\n",
              "                       n_jobs=None, oob_score=False, random_state=None,\n",
              "                       verbose=0, warm_start=False)"
            ]
          },
          "metadata": {
            "tags": []
          },
          "execution_count": 26
        }
      ]
    },
    {
      "cell_type": "code",
      "metadata": {
        "colab": {
          "base_uri": "https://localhost:8080/"
        },
        "id": "NaGnNyPo7XvZ",
        "outputId": "2718d9e0-fd4b-4643-fc9e-4003d7d5bb06"
      },
      "source": [
        "data.length_binned.unique()"
      ],
      "execution_count": 47,
      "outputs": [
        {
          "output_type": "execute_result",
          "data": {
            "text/plain": [
              "array(['med', 'small', 'big', 'biggest'], dtype=object)"
            ]
          },
          "metadata": {
            "tags": []
          },
          "execution_count": 47
        }
      ]
    },
    {
      "cell_type": "code",
      "metadata": {
        "id": "nlMHeMC405t-"
      },
      "source": [
        "single_input = X_temp.iloc[0]\n",
        "single_input = pd.DataFrame(single_input).T\n",
        "\n",
        "# Change Input Value Here!\n",
        "shortest = single_input.copy()\n",
        "bigger = single_input.copy()\n",
        "biggest = single_input.copy()\n",
        "\n",
        "shortest.length_binned = 'small'\n",
        "bigger.length_binned = 'big'\n",
        "biggest.length_binned = 'biggest'\n",
        "\n",
        "# single_input.video_length = 'small' # etc\n",
        "single_input = pd.get_dummies(single_input, columns=['length_binned', 'title_length_binned'])\n",
        "shortest = pd.get_dummies(shortest, columns=['length_binned', 'title_length_binned'])\n",
        "bigger = pd.get_dummies(bigger, columns=['length_binned', 'title_length_binned'])\n",
        "biggest = pd.get_dummies(biggest, columns=['length_binned', 'title_length_binned'])\n",
        "\n",
        "single_input = single_input.reindex(columns = X.columns, fill_value=0)\n",
        "shortest = shortest.reindex(columns = X.columns, fill_value=0)\n",
        "bigger = bigger.reindex(columns = X.columns, fill_value=0)\n",
        "biggest = biggest.reindex(columns = X.columns, fill_value=0)"
      ],
      "execution_count": 27,
      "outputs": []
    },
    {
      "cell_type": "code",
      "metadata": {
        "colab": {
          "base_uri": "https://localhost:8080/"
        },
        "id": "0g6whIWHyWhG",
        "outputId": "87e1de18-0117-4e6d-de83-87e88c218cb3"
      },
      "source": [
        "print(\"Depenedent Variable:\",selected_dependent_target_variable, \"\\nCampaign:\", selected_campaign, \"\\nIndustry:\", selected_industry)\n",
        "\n",
        "print(f\"{selected_dependent_target_variable} probability with current length:\",rf.predict_proba(single_input)[0][0])\n",
        "print(f\"{selected_dependent_target_variable} probability with shorter length:\",rf.predict_proba(shortest)[0][0])\n",
        "print(f\"{selected_dependent_target_variable} probability with longer length:\",rf.predict_proba(bigger)[0][0])\n",
        "print(f\"{selected_dependent_target_variable} probability with longest length:\",rf.predict_proba(biggest)[0][0])\n",
        "\n"
      ],
      "execution_count": 29,
      "outputs": [
        {
          "output_type": "stream",
          "text": [
            "Depenedent Variable: unsubscribed \n",
            "Campaign: No_Opener \n",
            "Industry: Automotive\n",
            "unsubscribed probability with current length: 0.26\n",
            "unsubscribed probability with shorter length: 0.35\n",
            "unsubscribed probability with longer length: 0.43\n",
            "unsubscribed probability with longest length: 0.35\n"
          ],
          "name": "stdout"
        }
      ]
    },
    {
      "cell_type": "code",
      "metadata": {
        "id": "7_E8khz19XtK"
      },
      "source": [
        ""
      ],
      "execution_count": null,
      "outputs": []
    }
  ]
}